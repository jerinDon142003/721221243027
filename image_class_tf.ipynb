{
  "nbformat": 4,
  "nbformat_minor": 0,
  "metadata": {
    "colab": {
      "private_outputs": true,
      "provenance": [],
      "authorship_tag": "ABX9TyOkEx4dDy9zA3U8ayYafpt9",
      "include_colab_link": true
    },
    "kernelspec": {
      "name": "python3",
      "display_name": "Python 3"
    },
    "language_info": {
      "name": "python"
    }
  },
  "cells": [
    {
      "cell_type": "markdown",
      "metadata": {
        "id": "view-in-github",
        "colab_type": "text"
      },
      "source": [
        "<a href=\"https://colab.research.google.com/github/jerinDon142003/721221243027/blob/main/image_class_tf.ipynb\" target=\"_parent\"><img src=\"https://colab.research.google.com/assets/colab-badge.svg\" alt=\"Open In Colab\"/></a>"
      ]
    },
    {
      "cell_type": "code",
      "execution_count": null,
      "metadata": {
        "id": "UHkDBEMzgDb7"
      },
      "outputs": [],
      "source": [
        "import tensorflow as tf\n",
        "from tensorflow.keras import layers, models\n",
        "from tensorflow.keras.datasets import cifar10\n",
        "from tensorflow.keras.utils import to_categorical\n",
        "import matplotlib.pyplot as plt\n",
        "import numpy as np"
      ]
    },
    {
      "cell_type": "code",
      "source": [
        "(x_train, y_train), (x_test, y_test)= cifar10.load_data()"
      ],
      "metadata": {
        "id": "zuVZT4YVhPP9"
      },
      "execution_count": null,
      "outputs": []
    },
    {
      "cell_type": "code",
      "source": [
        "x_train= x_train.astype('float32')/255.0\n",
        "x_test= x_test.astype('float32')/255.0"
      ],
      "metadata": {
        "id": "w0G3H3LclkT1"
      },
      "execution_count": null,
      "outputs": []
    },
    {
      "cell_type": "code",
      "source": [
        "y_train= to_categorical(y_train, 10)\n",
        "y_test= to_categorical(y_test, 10)"
      ],
      "metadata": {
        "id": "JLnCyYNZnFYU"
      },
      "execution_count": null,
      "outputs": []
    },
    {
      "cell_type": "code",
      "source": [
        "model= models.Sequential()\n"
      ],
      "metadata": {
        "id": "4_yQSDzMnKfc"
      },
      "execution_count": null,
      "outputs": []
    },
    {
      "cell_type": "code",
      "source": [
        "model.add(layers.Conv2D(32, (3,3), activation = 'relu', input_shape= (32, 32,3)))\n",
        "model.add(layers.MaxPooling2D((2, 2)))"
      ],
      "metadata": {
        "id": "UgOgQr6WnU9x"
      },
      "execution_count": null,
      "outputs": []
    },
    {
      "cell_type": "code",
      "source": [
        "model.add(layers.Conv2D(64, (3, 3), activation= 'relu'))\n",
        "model.add(layers.MaxPooling2D((2,2)))"
      ],
      "metadata": {
        "id": "KsRpfo7_pNeI"
      },
      "execution_count": null,
      "outputs": []
    },
    {
      "cell_type": "code",
      "source": [
        "model.add(layers.Conv2D(64, (3, 3), activation= 'relu'))"
      ],
      "metadata": {
        "id": "YpLByVt-p1j6"
      },
      "execution_count": null,
      "outputs": []
    },
    {
      "cell_type": "code",
      "source": [
        "model.add(layers.Flatten())"
      ],
      "metadata": {
        "id": "UPZtVCuoqCwB"
      },
      "execution_count": null,
      "outputs": []
    },
    {
      "cell_type": "code",
      "source": [
        "model.add(layers.Dense(64, activation= 'relu'))"
      ],
      "metadata": {
        "id": "pJFZODssqxA0"
      },
      "execution_count": null,
      "outputs": []
    },
    {
      "cell_type": "code",
      "source": [
        "model.add(layers.Dropout(0.5))"
      ],
      "metadata": {
        "id": "AbGkk3_gq07B"
      },
      "execution_count": null,
      "outputs": []
    },
    {
      "cell_type": "code",
      "source": [
        "model.add(layers.Dense(10, activation= 'softmax'))"
      ],
      "metadata": {
        "id": "-LYlKhrtq5Bv"
      },
      "execution_count": null,
      "outputs": []
    },
    {
      "cell_type": "code",
      "source": [
        "model.compile(optimizer= 'adam', loss= 'categorical_crossentropy', metrics= ['accuracy'])"
      ],
      "metadata": {
        "id": "69Tjb8WSchNF"
      },
      "execution_count": null,
      "outputs": []
    },
    {
      "cell_type": "code",
      "source": [
        "model.summary()"
      ],
      "metadata": {
        "id": "umMHor9KcqnU"
      },
      "execution_count": null,
      "outputs": []
    },
    {
      "cell_type": "code",
      "source": [
        "history= model.fit(x_train, y_train, epochs= 10, batch_size= 64, validation_data= (x_test, y_test))"
      ],
      "metadata": {
        "id": "HiglW_U7ctvJ"
      },
      "execution_count": null,
      "outputs": []
    },
    {
      "cell_type": "code",
      "source": [
        "test_loss, test_acc= model.evaluate(x_test, y_test)\n",
        "print(f'Test loss:{test_loss}')\n",
        "print(f'Test accuracy: {test_acc}')\n"
      ],
      "metadata": {
        "id": "vsINWkfFc7Yd"
      },
      "execution_count": null,
      "outputs": []
    },
    {
      "cell_type": "code",
      "source": [
        "print('history:', history.history)"
      ],
      "metadata": {
        "id": "7s4PtVmkdZLC"
      },
      "execution_count": null,
      "outputs": []
    },
    {
      "cell_type": "code",
      "source": [
        "plt.figure(figsize= (10, 5))\n",
        "for i in range(9):\n",
        "  plt.subplot(3, 3, i+1)\n",
        "  plt.imshow(x_test[i])\n",
        "  plt.title(f'Predicted: {np.argmax(model.predict(x_test[i].reshape(1, 32, 32, 3)))}')\n",
        "plt.tight_layout()\n",
        "plt.show()"
      ],
      "metadata": {
        "id": "iQ1CGpcFdmMO"
      },
      "execution_count": null,
      "outputs": []
    },
    {
      "cell_type": "code",
      "source": [],
      "metadata": {
        "id": "aPcZiouXgmW3"
      },
      "execution_count": null,
      "outputs": []
    }
  ]
}